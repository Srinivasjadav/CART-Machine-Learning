{
 "cells": [
  {
   "cell_type": "code",
   "execution_count": 1,
   "id": "suspected-fitting",
   "metadata": {},
   "outputs": [
    {
     "name": "stdout",
     "output_type": "stream",
     "text": [
      "all loaded\n"
     ]
    }
   ],
   "source": [
    "try:\n",
    "    import pandas as pd\n",
    "    import numpy as np \n",
    "    import seaborn as sns\n",
    "    import matplotlib.pyplot as plt\n",
    "    %matplotlib inline\n",
    "    sns.set(color_codes=True)\n",
    "    \n",
    "    print(\"all loaded\")\n",
    "except:\n",
    "    print(\"error\")"
   ]
  },
  {
   "cell_type": "markdown",
   "id": "suburban-essence",
   "metadata": {},
   "source": [
    "#### Dataset"
   ]
  },
  {
   "cell_type": "code",
   "execution_count": 2,
   "id": "psychological-hygiene",
   "metadata": {},
   "outputs": [
    {
     "data": {
      "text/plain": [
       "RangeIndex(start=0, stop=10000, step=1)"
      ]
     },
     "execution_count": 2,
     "metadata": {},
     "output_type": "execute_result"
    }
   ],
   "source": [
    "data = pd.read_csv(\"random10.csv\")\n",
    "\n",
    "data.index"
   ]
  },
  {
   "cell_type": "code",
   "execution_count": 3,
   "id": "pleased-cursor",
   "metadata": {},
   "outputs": [
    {
     "data": {
      "text/html": [
       "<div>\n",
       "<style scoped>\n",
       "    .dataframe tbody tr th:only-of-type {\n",
       "        vertical-align: middle;\n",
       "    }\n",
       "\n",
       "    .dataframe tbody tr th {\n",
       "        vertical-align: top;\n",
       "    }\n",
       "\n",
       "    .dataframe thead th {\n",
       "        text-align: right;\n",
       "    }\n",
       "</style>\n",
       "<table border=\"1\" class=\"dataframe\">\n",
       "  <thead>\n",
       "    <tr style=\"text-align: right;\">\n",
       "      <th></th>\n",
       "      <th>seic</th>\n",
       "      <th>seic_benefit</th>\n",
       "      <th>health</th>\n",
       "      <th>health_benefit</th>\n",
       "      <th>house</th>\n",
       "      <th>house_benefit</th>\n",
       "      <th>nutrition</th>\n",
       "      <th>nutrition_benefit</th>\n",
       "      <th>livelihood</th>\n",
       "      <th>livelihood_benefit</th>\n",
       "      <th>education</th>\n",
       "      <th>education_benefit</th>\n",
       "      <th>scheme1</th>\n",
       "      <th>scheme2</th>\n",
       "    </tr>\n",
       "  </thead>\n",
       "  <tbody>\n",
       "    <tr>\n",
       "      <th>count</th>\n",
       "      <td>10000.000000</td>\n",
       "      <td>10000.000000</td>\n",
       "      <td>10000.000000</td>\n",
       "      <td>10000.00000</td>\n",
       "      <td>10000.000000</td>\n",
       "      <td>10000.000000</td>\n",
       "      <td>10000.000000</td>\n",
       "      <td>10000.000000</td>\n",
       "      <td>10000.00000</td>\n",
       "      <td>10000.000000</td>\n",
       "      <td>10000.000000</td>\n",
       "      <td>10000.000000</td>\n",
       "      <td>10000.000000</td>\n",
       "      <td>10000.000000</td>\n",
       "    </tr>\n",
       "    <tr>\n",
       "      <th>mean</th>\n",
       "      <td>58.646900</td>\n",
       "      <td>50262.961200</td>\n",
       "      <td>59.787400</td>\n",
       "      <td>40247.36220</td>\n",
       "      <td>65.027200</td>\n",
       "      <td>39992.306400</td>\n",
       "      <td>54.839200</td>\n",
       "      <td>39814.456000</td>\n",
       "      <td>50.09870</td>\n",
       "      <td>49714.019400</td>\n",
       "      <td>65.483600</td>\n",
       "      <td>39895.112500</td>\n",
       "      <td>59.962000</td>\n",
       "      <td>54.772300</td>\n",
       "    </tr>\n",
       "    <tr>\n",
       "      <th>std</th>\n",
       "      <td>10.849746</td>\n",
       "      <td>28940.959236</td>\n",
       "      <td>23.634002</td>\n",
       "      <td>23320.27922</td>\n",
       "      <td>20.495025</td>\n",
       "      <td>22985.635879</td>\n",
       "      <td>26.191925</td>\n",
       "      <td>22882.348412</td>\n",
       "      <td>29.17101</td>\n",
       "      <td>28768.363387</td>\n",
       "      <td>20.618134</td>\n",
       "      <td>23091.447788</td>\n",
       "      <td>23.495216</td>\n",
       "      <td>26.182487</td>\n",
       "    </tr>\n",
       "    <tr>\n",
       "      <th>min</th>\n",
       "      <td>22.000000</td>\n",
       "      <td>3.000000</td>\n",
       "      <td>20.000000</td>\n",
       "      <td>12.00000</td>\n",
       "      <td>30.000000</td>\n",
       "      <td>5.000000</td>\n",
       "      <td>10.000000</td>\n",
       "      <td>7.000000</td>\n",
       "      <td>0.00000</td>\n",
       "      <td>11.000000</td>\n",
       "      <td>30.000000</td>\n",
       "      <td>5.000000</td>\n",
       "      <td>20.000000</td>\n",
       "      <td>10.000000</td>\n",
       "    </tr>\n",
       "    <tr>\n",
       "      <th>25%</th>\n",
       "      <td>51.000000</td>\n",
       "      <td>25175.500000</td>\n",
       "      <td>39.000000</td>\n",
       "      <td>19706.25000</td>\n",
       "      <td>47.000000</td>\n",
       "      <td>20307.000000</td>\n",
       "      <td>32.000000</td>\n",
       "      <td>20124.250000</td>\n",
       "      <td>25.00000</td>\n",
       "      <td>25008.750000</td>\n",
       "      <td>47.000000</td>\n",
       "      <td>19929.000000</td>\n",
       "      <td>40.000000</td>\n",
       "      <td>32.000000</td>\n",
       "    </tr>\n",
       "    <tr>\n",
       "      <th>50%</th>\n",
       "      <td>59.000000</td>\n",
       "      <td>50334.000000</td>\n",
       "      <td>60.000000</td>\n",
       "      <td>40792.50000</td>\n",
       "      <td>65.000000</td>\n",
       "      <td>39675.000000</td>\n",
       "      <td>55.000000</td>\n",
       "      <td>39974.000000</td>\n",
       "      <td>50.00000</td>\n",
       "      <td>49817.500000</td>\n",
       "      <td>66.000000</td>\n",
       "      <td>39623.000000</td>\n",
       "      <td>60.000000</td>\n",
       "      <td>55.000000</td>\n",
       "    </tr>\n",
       "    <tr>\n",
       "      <th>75%</th>\n",
       "      <td>66.000000</td>\n",
       "      <td>75413.250000</td>\n",
       "      <td>80.000000</td>\n",
       "      <td>60396.00000</td>\n",
       "      <td>83.000000</td>\n",
       "      <td>60144.000000</td>\n",
       "      <td>77.000000</td>\n",
       "      <td>59045.500000</td>\n",
       "      <td>75.00000</td>\n",
       "      <td>74367.250000</td>\n",
       "      <td>83.000000</td>\n",
       "      <td>60055.500000</td>\n",
       "      <td>80.000000</td>\n",
       "      <td>77.000000</td>\n",
       "    </tr>\n",
       "    <tr>\n",
       "      <th>max</th>\n",
       "      <td>93.000000</td>\n",
       "      <td>99997.000000</td>\n",
       "      <td>100.000000</td>\n",
       "      <td>79996.00000</td>\n",
       "      <td>100.000000</td>\n",
       "      <td>79996.000000</td>\n",
       "      <td>100.000000</td>\n",
       "      <td>79998.000000</td>\n",
       "      <td>100.00000</td>\n",
       "      <td>99998.000000</td>\n",
       "      <td>100.000000</td>\n",
       "      <td>79996.000000</td>\n",
       "      <td>100.000000</td>\n",
       "      <td>100.000000</td>\n",
       "    </tr>\n",
       "  </tbody>\n",
       "</table>\n",
       "</div>"
      ],
      "text/plain": [
       "               seic  seic_benefit        health  health_benefit         house  \\\n",
       "count  10000.000000  10000.000000  10000.000000     10000.00000  10000.000000   \n",
       "mean      58.646900  50262.961200     59.787400     40247.36220     65.027200   \n",
       "std       10.849746  28940.959236     23.634002     23320.27922     20.495025   \n",
       "min       22.000000      3.000000     20.000000        12.00000     30.000000   \n",
       "25%       51.000000  25175.500000     39.000000     19706.25000     47.000000   \n",
       "50%       59.000000  50334.000000     60.000000     40792.50000     65.000000   \n",
       "75%       66.000000  75413.250000     80.000000     60396.00000     83.000000   \n",
       "max       93.000000  99997.000000    100.000000     79996.00000    100.000000   \n",
       "\n",
       "       house_benefit     nutrition  nutrition_benefit   livelihood  \\\n",
       "count   10000.000000  10000.000000       10000.000000  10000.00000   \n",
       "mean    39992.306400     54.839200       39814.456000     50.09870   \n",
       "std     22985.635879     26.191925       22882.348412     29.17101   \n",
       "min         5.000000     10.000000           7.000000      0.00000   \n",
       "25%     20307.000000     32.000000       20124.250000     25.00000   \n",
       "50%     39675.000000     55.000000       39974.000000     50.00000   \n",
       "75%     60144.000000     77.000000       59045.500000     75.00000   \n",
       "max     79996.000000    100.000000       79998.000000    100.00000   \n",
       "\n",
       "       livelihood_benefit     education  education_benefit       scheme1  \\\n",
       "count        10000.000000  10000.000000       10000.000000  10000.000000   \n",
       "mean         49714.019400     65.483600       39895.112500     59.962000   \n",
       "std          28768.363387     20.618134       23091.447788     23.495216   \n",
       "min             11.000000     30.000000           5.000000     20.000000   \n",
       "25%          25008.750000     47.000000       19929.000000     40.000000   \n",
       "50%          49817.500000     66.000000       39623.000000     60.000000   \n",
       "75%          74367.250000     83.000000       60055.500000     80.000000   \n",
       "max          99998.000000    100.000000       79996.000000    100.000000   \n",
       "\n",
       "            scheme2  \n",
       "count  10000.000000  \n",
       "mean      54.772300  \n",
       "std       26.182487  \n",
       "min       10.000000  \n",
       "25%       32.000000  \n",
       "50%       55.000000  \n",
       "75%       77.000000  \n",
       "max      100.000000  "
      ]
     },
     "execution_count": 3,
     "metadata": {},
     "output_type": "execute_result"
    }
   ],
   "source": [
    "data.describe()"
   ]
  },
  {
   "cell_type": "code",
   "execution_count": 4,
   "id": "possible-attendance",
   "metadata": {},
   "outputs": [
    {
     "data": {
      "text/html": [
       "<div>\n",
       "<style scoped>\n",
       "    .dataframe tbody tr th:only-of-type {\n",
       "        vertical-align: middle;\n",
       "    }\n",
       "\n",
       "    .dataframe tbody tr th {\n",
       "        vertical-align: top;\n",
       "    }\n",
       "\n",
       "    .dataframe thead th {\n",
       "        text-align: right;\n",
       "    }\n",
       "</style>\n",
       "<table border=\"1\" class=\"dataframe\">\n",
       "  <thead>\n",
       "    <tr style=\"text-align: right;\">\n",
       "      <th></th>\n",
       "      <th>seic</th>\n",
       "      <th>health</th>\n",
       "      <th>house</th>\n",
       "      <th>nutrition</th>\n",
       "      <th>livelihood</th>\n",
       "      <th>education</th>\n",
       "      <th>scheme1</th>\n",
       "      <th>scheme2</th>\n",
       "    </tr>\n",
       "  </thead>\n",
       "  <tbody>\n",
       "    <tr>\n",
       "      <th>0</th>\n",
       "      <td>54</td>\n",
       "      <td>77</td>\n",
       "      <td>48</td>\n",
       "      <td>48</td>\n",
       "      <td>37</td>\n",
       "      <td>62</td>\n",
       "      <td>89</td>\n",
       "      <td>94</td>\n",
       "    </tr>\n",
       "    <tr>\n",
       "      <th>1</th>\n",
       "      <td>65</td>\n",
       "      <td>51</td>\n",
       "      <td>66</td>\n",
       "      <td>82</td>\n",
       "      <td>71</td>\n",
       "      <td>56</td>\n",
       "      <td>20</td>\n",
       "      <td>23</td>\n",
       "    </tr>\n",
       "    <tr>\n",
       "      <th>2</th>\n",
       "      <td>79</td>\n",
       "      <td>98</td>\n",
       "      <td>97</td>\n",
       "      <td>89</td>\n",
       "      <td>32</td>\n",
       "      <td>81</td>\n",
       "      <td>80</td>\n",
       "      <td>29</td>\n",
       "    </tr>\n",
       "    <tr>\n",
       "      <th>3</th>\n",
       "      <td>63</td>\n",
       "      <td>41</td>\n",
       "      <td>70</td>\n",
       "      <td>87</td>\n",
       "      <td>45</td>\n",
       "      <td>72</td>\n",
       "      <td>47</td>\n",
       "      <td>66</td>\n",
       "    </tr>\n",
       "    <tr>\n",
       "      <th>4</th>\n",
       "      <td>36</td>\n",
       "      <td>53</td>\n",
       "      <td>54</td>\n",
       "      <td>34</td>\n",
       "      <td>10</td>\n",
       "      <td>30</td>\n",
       "      <td>44</td>\n",
       "      <td>10</td>\n",
       "    </tr>\n",
       "    <tr>\n",
       "      <th>...</th>\n",
       "      <td>...</td>\n",
       "      <td>...</td>\n",
       "      <td>...</td>\n",
       "      <td>...</td>\n",
       "      <td>...</td>\n",
       "      <td>...</td>\n",
       "      <td>...</td>\n",
       "      <td>...</td>\n",
       "    </tr>\n",
       "    <tr>\n",
       "      <th>9995</th>\n",
       "      <td>61</td>\n",
       "      <td>75</td>\n",
       "      <td>85</td>\n",
       "      <td>17</td>\n",
       "      <td>79</td>\n",
       "      <td>53</td>\n",
       "      <td>48</td>\n",
       "      <td>30</td>\n",
       "    </tr>\n",
       "    <tr>\n",
       "      <th>9996</th>\n",
       "      <td>72</td>\n",
       "      <td>65</td>\n",
       "      <td>33</td>\n",
       "      <td>82</td>\n",
       "      <td>95</td>\n",
       "      <td>89</td>\n",
       "      <td>89</td>\n",
       "      <td>61</td>\n",
       "    </tr>\n",
       "    <tr>\n",
       "      <th>9997</th>\n",
       "      <td>52</td>\n",
       "      <td>43</td>\n",
       "      <td>68</td>\n",
       "      <td>53</td>\n",
       "      <td>33</td>\n",
       "      <td>64</td>\n",
       "      <td>43</td>\n",
       "      <td>56</td>\n",
       "    </tr>\n",
       "    <tr>\n",
       "      <th>9998</th>\n",
       "      <td>68</td>\n",
       "      <td>32</td>\n",
       "      <td>100</td>\n",
       "      <td>60</td>\n",
       "      <td>61</td>\n",
       "      <td>88</td>\n",
       "      <td>85</td>\n",
       "      <td>35</td>\n",
       "    </tr>\n",
       "    <tr>\n",
       "      <th>9999</th>\n",
       "      <td>46</td>\n",
       "      <td>31</td>\n",
       "      <td>33</td>\n",
       "      <td>71</td>\n",
       "      <td>14</td>\n",
       "      <td>81</td>\n",
       "      <td>73</td>\n",
       "      <td>70</td>\n",
       "    </tr>\n",
       "  </tbody>\n",
       "</table>\n",
       "<p>10000 rows × 8 columns</p>\n",
       "</div>"
      ],
      "text/plain": [
       "      seic  health  house  nutrition  livelihood  education  scheme1  scheme2\n",
       "0       54      77     48         48          37         62       89       94\n",
       "1       65      51     66         82          71         56       20       23\n",
       "2       79      98     97         89          32         81       80       29\n",
       "3       63      41     70         87          45         72       47       66\n",
       "4       36      53     54         34          10         30       44       10\n",
       "...    ...     ...    ...        ...         ...        ...      ...      ...\n",
       "9995    61      75     85         17          79         53       48       30\n",
       "9996    72      65     33         82          95         89       89       61\n",
       "9997    52      43     68         53          33         64       43       56\n",
       "9998    68      32    100         60          61         88       85       35\n",
       "9999    46      31     33         71          14         81       73       70\n",
       "\n",
       "[10000 rows x 8 columns]"
      ]
     },
     "execution_count": 4,
     "metadata": {},
     "output_type": "execute_result"
    }
   ],
   "source": [
    "# Differentiating Scores and Benefit data for processing\n",
    "scores_data = data[[\"seic\",\"health\",\"house\",\"nutrition\",\"livelihood\",\"education\",\"scheme1\",\"scheme2\"]]\n",
    "scores_data.head()\n",
    "scores_data"
   ]
  },
  {
   "cell_type": "markdown",
   "id": "subsequent-retirement",
   "metadata": {},
   "source": [
    "#### Outliers if any:"
   ]
  },
  {
   "cell_type": "code",
   "execution_count": 5,
   "id": "personal-honor",
   "metadata": {},
   "outputs": [
    {
     "data": {
      "text/plain": [
       "<function matplotlib.pyplot.show(close=None, block=None)>"
      ]
     },
     "execution_count": 5,
     "metadata": {},
     "output_type": "execute_result"
    },
    {
     "data": {
      "image/png": "[encoded data removed]",
      "text/plain": [
       "<Figure size 1440x504 with 1 Axes>"
      ]
     },
     "metadata": {},
     "output_type": "display_data"
    }
   ],
   "source": [
    "from matplotlib.pyplot import figure\n",
    "figure(figsize= (20,7))\n",
    "scores_data1 = scores_data[[\"seic\",\"health\",\"house\",\"nutrition\",\"livelihood\",\"education\",\"scheme1\",\"scheme2\"]]\n",
    "sns.boxplot(data=scores_data1)\n",
    "plt.show"
   ]
  },
  {
   "cell_type": "code",
   "execution_count": 6,
   "id": "african-cleaner",
   "metadata": {},
   "outputs": [
    {
     "data": {
      "text/html": [
       "<div>\n",
       "<style scoped>\n",
       "    .dataframe tbody tr th:only-of-type {\n",
       "        vertical-align: middle;\n",
       "    }\n",
       "\n",
       "    .dataframe tbody tr th {\n",
       "        vertical-align: top;\n",
       "    }\n",
       "\n",
       "    .dataframe thead th {\n",
       "        text-align: right;\n",
       "    }\n",
       "</style>\n",
       "<table border=\"1\" class=\"dataframe\">\n",
       "  <thead>\n",
       "    <tr style=\"text-align: right;\">\n",
       "      <th></th>\n",
       "      <th>seic_benefit</th>\n",
       "      <th>health_benefit</th>\n",
       "      <th>house_benefit</th>\n",
       "      <th>nutrition_benefit</th>\n",
       "      <th>livelihood_benefit</th>\n",
       "      <th>education_benefit</th>\n",
       "      <th>scheme1_benefit</th>\n",
       "      <th>scheme2_benefit</th>\n",
       "    </tr>\n",
       "  </thead>\n",
       "  <tbody>\n",
       "    <tr>\n",
       "      <th>0</th>\n",
       "      <td>97930</td>\n",
       "      <td>76494</td>\n",
       "      <td>48429</td>\n",
       "      <td>6586</td>\n",
       "      <td>7219</td>\n",
       "      <td>74548</td>\n",
       "      <td>Non-Eligible</td>\n",
       "      <td>Eligible</td>\n",
       "    </tr>\n",
       "    <tr>\n",
       "      <th>1</th>\n",
       "      <td>1377</td>\n",
       "      <td>26442</td>\n",
       "      <td>66576</td>\n",
       "      <td>43498</td>\n",
       "      <td>91686</td>\n",
       "      <td>24616</td>\n",
       "      <td>Non-Eligible</td>\n",
       "      <td>Non-Eligible</td>\n",
       "    </tr>\n",
       "    <tr>\n",
       "      <th>2</th>\n",
       "      <td>88404</td>\n",
       "      <td>74235</td>\n",
       "      <td>61040</td>\n",
       "      <td>55503</td>\n",
       "      <td>60424</td>\n",
       "      <td>56585</td>\n",
       "      <td>Eligible</td>\n",
       "      <td>Eligible</td>\n",
       "    </tr>\n",
       "    <tr>\n",
       "      <th>3</th>\n",
       "      <td>7618</td>\n",
       "      <td>74392</td>\n",
       "      <td>42888</td>\n",
       "      <td>24656</td>\n",
       "      <td>46427</td>\n",
       "      <td>45466</td>\n",
       "      <td>Non-Eligible</td>\n",
       "      <td>Non-Eligible</td>\n",
       "    </tr>\n",
       "    <tr>\n",
       "      <th>4</th>\n",
       "      <td>11917</td>\n",
       "      <td>27091</td>\n",
       "      <td>755</td>\n",
       "      <td>2402</td>\n",
       "      <td>3016</td>\n",
       "      <td>9648</td>\n",
       "      <td>Non-Eligible</td>\n",
       "      <td>Non-Eligible</td>\n",
       "    </tr>\n",
       "  </tbody>\n",
       "</table>\n",
       "</div>"
      ],
      "text/plain": [
       "   seic_benefit  health_benefit  house_benefit  nutrition_benefit  \\\n",
       "0         97930           76494          48429               6586   \n",
       "1          1377           26442          66576              43498   \n",
       "2         88404           74235          61040              55503   \n",
       "3          7618           74392          42888              24656   \n",
       "4         11917           27091            755               2402   \n",
       "\n",
       "   livelihood_benefit  education_benefit scheme1_benefit scheme2_benefit  \n",
       "0                7219              74548    Non-Eligible        Eligible  \n",
       "1               91686              24616    Non-Eligible    Non-Eligible  \n",
       "2               60424              56585        Eligible        Eligible  \n",
       "3               46427              45466    Non-Eligible    Non-Eligible  \n",
       "4                3016               9648    Non-Eligible    Non-Eligible  "
      ]
     },
     "execution_count": 6,
     "metadata": {},
     "output_type": "execute_result"
    }
   ],
   "source": [
    "benefit_amount_data = data[[\"seic_benefit\",\"health_benefit\",\"house_benefit\",\"nutrition_benefit\",\n",
    "                            \"livelihood_benefit\",\"education_benefit\",\"scheme1_benefit\",\"scheme2_benefit\"]]\n",
    "benefit_amount_data.head()"
   ]
  },
  {
   "cell_type": "code",
   "execution_count": 7,
   "id": "destroyed-induction",
   "metadata": {},
   "outputs": [
    {
     "data": {
      "text/plain": [
       "<function matplotlib.pyplot.show(close=None, block=None)>"
      ]
     },
     "execution_count": 7,
     "metadata": {},
     "output_type": "execute_result"
    },
    {
     "data": {
      "image/png": "[encoded data removed]",
      "text/plain": [
       "<Figure size 720x504 with 1 Axes>"
      ]
     },
     "metadata": {},
     "output_type": "display_data"
    }
   ],
   "source": [
    "figure(figsize= (10,7))\n",
    "sns.boxplot(data=benefit_amount_data)\n",
    "plt.show"
   ]
  },
  {
   "cell_type": "markdown",
   "id": "bigger-complex",
   "metadata": {},
   "source": [
    "#### Train test split"
   ]
  },
  {
   "cell_type": "code",
   "execution_count": 8,
   "id": "cognitive-lyric",
   "metadata": {},
   "outputs": [
    {
     "data": {
      "text/plain": [
       "((7000, 24), (3000, 24))"
      ]
     },
     "execution_count": 8,
     "metadata": {},
     "output_type": "execute_result"
    }
   ],
   "source": [
    "from sklearn.model_selection import train_test_split\n",
    "train,test = train_test_split(data,test_size=0.3,random_state= 3)\n",
    "train.shape,test.shape"
   ]
  },
  {
   "cell_type": "markdown",
   "id": "hundred-contributor",
   "metadata": {},
   "source": [
    "#### Label Encoding Categorical Data"
   ]
  },
  {
   "cell_type": "code",
   "execution_count": 9,
   "id": "sunrise-removal",
   "metadata": {},
   "outputs": [],
   "source": [
    "#Differentiating Numerical and Categorical Data for further processing\n",
    "\n",
    "#Categorical\n",
    "train_categorical = train.select_dtypes(exclude = ['int64'])\n",
    "test_categorical = test.select_dtypes(exclude = ['int64'])\n",
    "\n",
    "#Numerical\n",
    "train_numerical = train.select_dtypes(include = ['int64'])\n",
    "test_numerical = test.select_dtypes(include = ['int64'])\n",
    "\n",
    "#Encoding Categorical data\n",
    "from sklearn.preprocessing import LabelEncoder\n",
    "train_categorical_en = train_categorical.apply(LabelEncoder().fit_transform)\n",
    "test_categorical_en = test_categorical.apply(LabelEncoder().fit_transform)"
   ]
  },
  {
   "cell_type": "code",
   "execution_count": 10,
   "id": "intermediate-question",
   "metadata": {},
   "outputs": [
    {
     "name": "stdout",
     "output_type": "stream",
     "text": [
      "      SEIC ERROR  Health ERROR  House ERROR  Nutrition ERROR  \\\n",
      "5795           2             2            1                2   \n",
      "\n",
      "      livelihood ERROR  Education ERROR  scheme1_benefit  Scheme-1 ERROR  \\\n",
      "5795                 2                1                0               2   \n",
      "\n",
      "      scheme2_benefit  Scheme-2 ERROR  \n",
      "5795                1               2  \n"
     ]
    },
    {
     "data": {
      "text/plain": [
       "'No Error'"
      ]
     },
     "execution_count": 10,
     "metadata": {},
     "output_type": "execute_result"
    }
   ],
   "source": [
    "print(train_categorical_en[train_categorical_en['SEIC ERROR'] > 1].head(1))\n",
    "train_categorical[\"SEIC ERROR\"].loc[5795]\n",
    "\n",
    "#Hence, 2 of categorical encoded defines : No error"
   ]
  },
  {
   "cell_type": "code",
   "execution_count": 11,
   "id": "wicked-possession",
   "metadata": {},
   "outputs": [
    {
     "name": "stdout",
     "output_type": "stream",
     "text": [
      "      SEIC ERROR  Health ERROR  House ERROR  Nutrition ERROR  \\\n",
      "8317           0             2            1                2   \n",
      "\n",
      "      livelihood ERROR  Education ERROR  scheme1_benefit  Scheme-1 ERROR  \\\n",
      "8317                 2                1                0               2   \n",
      "\n",
      "      scheme2_benefit  Scheme-2 ERROR  \n",
      "8317                0               2  \n"
     ]
    },
    {
     "data": {
      "text/plain": [
       "'EOE'"
      ]
     },
     "execution_count": 11,
     "metadata": {},
     "output_type": "execute_result"
    }
   ],
   "source": [
    "print(train_categorical_en[train_categorical_en['SEIC ERROR'] == 0].head(1))\n",
    "train_categorical[\"SEIC ERROR\"].loc[8317]"
   ]
  },
  {
   "cell_type": "markdown",
   "id": "metallic-czech",
   "metadata": {},
   "source": [
    "\n",
    "Hence Categorical Encoded Indicators:\n",
    "\n",
    "- 0 of categorical encoded defines : EOE\n",
    "- 1 of categorical encoded defines : EOI\n",
    "- 2 of categorical encoded defines : No error"
   ]
  },
  {
   "cell_type": "code",
   "execution_count": 38,
   "id": "backed-trailer",
   "metadata": {},
   "outputs": [
    {
     "data": {
      "text/html": [
       "<div>\n",
       "<style scoped>\n",
       "    .dataframe tbody tr th:only-of-type {\n",
       "        vertical-align: middle;\n",
       "    }\n",
       "\n",
       "    .dataframe tbody tr th {\n",
       "        vertical-align: top;\n",
       "    }\n",
       "\n",
       "    .dataframe thead th {\n",
       "        text-align: right;\n",
       "    }\n",
       "</style>\n",
       "<table border=\"1\" class=\"dataframe\">\n",
       "  <thead>\n",
       "    <tr style=\"text-align: right;\">\n",
       "      <th></th>\n",
       "      <th>SEIC ERROR</th>\n",
       "      <th>Health ERROR</th>\n",
       "      <th>House ERROR</th>\n",
       "      <th>Nutrition ERROR</th>\n",
       "      <th>livelihood ERROR</th>\n",
       "      <th>Education ERROR</th>\n",
       "      <th>scheme1_benefit</th>\n",
       "      <th>Scheme-1 ERROR</th>\n",
       "      <th>scheme2_benefit</th>\n",
       "      <th>Scheme-2 ERROR</th>\n",
       "    </tr>\n",
       "  </thead>\n",
       "  <tbody>\n",
       "    <tr>\n",
       "      <th>5795</th>\n",
       "      <td>No Error</td>\n",
       "      <td>No Error</td>\n",
       "      <td>No Error</td>\n",
       "      <td>No Error</td>\n",
       "      <td>No Error</td>\n",
       "      <td>No Error</td>\n",
       "      <td>Eligible</td>\n",
       "      <td>No Error</td>\n",
       "      <td>Non-Eligible</td>\n",
       "      <td>No Error</td>\n",
       "    </tr>\n",
       "    <tr>\n",
       "      <th>1490</th>\n",
       "      <td>No Error</td>\n",
       "      <td>EOI</td>\n",
       "      <td>No Error</td>\n",
       "      <td>No Error</td>\n",
       "      <td>No Error</td>\n",
       "      <td>No Error</td>\n",
       "      <td>Non-Eligible</td>\n",
       "      <td>No Error</td>\n",
       "      <td>Eligible</td>\n",
       "      <td>No Error</td>\n",
       "    </tr>\n",
       "    <tr>\n",
       "      <th>3807</th>\n",
       "      <td>No Error</td>\n",
       "      <td>No Error</td>\n",
       "      <td>No Error</td>\n",
       "      <td>No Error</td>\n",
       "      <td>No Error</td>\n",
       "      <td>No Error</td>\n",
       "      <td>Eligible</td>\n",
       "      <td>No Error</td>\n",
       "      <td>Non-Eligible</td>\n",
       "      <td>No Error</td>\n",
       "    </tr>\n",
       "    <tr>\n",
       "      <th>3042</th>\n",
       "      <td>No Error</td>\n",
       "      <td>EOE</td>\n",
       "      <td>No Error</td>\n",
       "      <td>No Error</td>\n",
       "      <td>No Error</td>\n",
       "      <td>No Error</td>\n",
       "      <td>Eligible</td>\n",
       "      <td>No Error</td>\n",
       "      <td>Eligible</td>\n",
       "      <td>No Error</td>\n",
       "    </tr>\n",
       "    <tr>\n",
       "      <th>4064</th>\n",
       "      <td>No Error</td>\n",
       "      <td>No Error</td>\n",
       "      <td>No Error</td>\n",
       "      <td>EOE</td>\n",
       "      <td>No Error</td>\n",
       "      <td>No Error</td>\n",
       "      <td>Eligible</td>\n",
       "      <td>No Error</td>\n",
       "      <td>Eligible</td>\n",
       "      <td>No Error</td>\n",
       "    </tr>\n",
       "  </tbody>\n",
       "</table>\n",
       "</div>"
      ],
      "text/plain": [
       "     SEIC ERROR Health ERROR House ERROR Nutrition ERROR livelihood ERROR  \\\n",
       "5795   No Error     No Error    No Error        No Error         No Error   \n",
       "1490   No Error          EOI    No Error        No Error         No Error   \n",
       "3807   No Error     No Error    No Error        No Error         No Error   \n",
       "3042   No Error          EOE    No Error        No Error         No Error   \n",
       "4064   No Error     No Error    No Error             EOE         No Error   \n",
       "\n",
       "     Education ERROR scheme1_benefit Scheme-1 ERROR scheme2_benefit  \\\n",
       "5795        No Error        Eligible       No Error    Non-Eligible   \n",
       "1490        No Error    Non-Eligible       No Error        Eligible   \n",
       "3807        No Error        Eligible       No Error    Non-Eligible   \n",
       "3042        No Error        Eligible       No Error        Eligible   \n",
       "4064        No Error        Eligible       No Error        Eligible   \n",
       "\n",
       "     Scheme-2 ERROR  \n",
       "5795       No Error  \n",
       "1490       No Error  \n",
       "3807       No Error  \n",
       "3042       No Error  \n",
       "4064       No Error  "
      ]
     },
     "execution_count": 38,
     "metadata": {},
     "output_type": "execute_result"
    }
   ],
   "source": [
    "#Combining Numerical and Categorical\n",
    "train_new = pd.concat([train_categorical_en,train_numerical],axis=1)\n",
    "test_new = pd.concat([test_categorical_en,test_numerical],axis=1)\n",
    "\n",
    "train_categorical.head()"
   ]
  },
  {
   "cell_type": "markdown",
   "id": "light-lease",
   "metadata": {},
   "source": [
    "#### Defining Target and Independent Variable:"
   ]
  },
  {
   "cell_type": "code",
   "execution_count": 13,
   "id": "loving-vacation",
   "metadata": {},
   "outputs": [
    {
     "data": {
      "text/plain": [
       "((7000, 2), (3000, 2))"
      ]
     },
     "execution_count": 13,
     "metadata": {},
     "output_type": "execute_result"
    }
   ],
   "source": [
    "#defining independent variable:\n",
    "\n",
    "train_factors_seic = train_new[[\"seic\",\"seic_benefit\",\"SEIC ERROR\"]]\n",
    "test_factors_seic = test_new[[\"seic\",\"seic_benefit\",\"SEIC ERROR\"]]\n",
    "\n",
    "X_train_seic = train_factors_seic.drop([\"SEIC ERROR\"],axis=1)\n",
    "y_train_seic = train_factors_seic[\"SEIC ERROR\"]\n",
    "\n",
    "\n",
    "X_test_seic = test_factors_seic.drop([\"SEIC ERROR\"],axis=1)\n",
    "y_test_seic = test_factors_seic[\"SEIC ERROR\"]\n",
    "\n",
    "X_train_seic.shape,X_test_seic.shape"
   ]
  },
  {
   "cell_type": "markdown",
   "id": "valuable-maintenance",
   "metadata": {},
   "source": [
    "#### Model1 - KNN Classifier"
   ]
  },
  {
   "cell_type": "code",
   "execution_count": 15,
   "id": "funny-words",
   "metadata": {
    "scrolled": true
   },
   "outputs": [
    {
     "name": "stdout",
     "output_type": "stream",
     "text": [
      "Accuracy Score:  0.9613333333333334\n"
     ]
    }
   ],
   "source": [
    "from sklearn.neighbors import KNeighborsClassifier\n",
    "modelc = KNeighborsClassifier()\n",
    "\n",
    "clf = modelc.fit(X_train_seic,y_train_seic)\n",
    "prediction_c = modelc.predict(X_test_seic)\n",
    "\n",
    "\n",
    "scoreC_test = modelc.score(X_test_seic, y_test_seic)\n",
    "print('Accuracy Score: ', scoreC_test)"
   ]
  },
  {
   "cell_type": "code",
   "execution_count": 16,
   "id": "genuine-magic",
   "metadata": {},
   "outputs": [
    {
     "data": {
      "text/plain": [
       "2"
      ]
     },
     "execution_count": 16,
     "metadata": {},
     "output_type": "execute_result"
    }
   ],
   "source": [
    "#No of unique values in array:\n",
    "len(set(prediction_c))"
   ]
  },
  {
   "cell_type": "code",
   "execution_count": 17,
   "id": "caroline-tourist",
   "metadata": {},
   "outputs": [
    {
     "data": {
      "text/plain": [
       "{0, 2}"
      ]
     },
     "execution_count": 17,
     "metadata": {},
     "output_type": "execute_result"
    }
   ],
   "source": [
    "(set(prediction_c))   #KNN didnt consider EOE Cases"
   ]
  },
  {
   "cell_type": "markdown",
   "id": "caroline-fishing",
   "metadata": {},
   "source": [
    "#### Model 2 : Logistic Regression"
   ]
  },
  {
   "cell_type": "code",
   "execution_count": 18,
   "id": "headed-means",
   "metadata": {},
   "outputs": [
    {
     "name": "stdout",
     "output_type": "stream",
     "text": [
      "Accuracy Score:  0.9646666666666667\n"
     ]
    }
   ],
   "source": [
    "from sklearn.linear_model import LogisticRegression\n",
    "from sklearn.metrics import accuracy_score\n",
    "\n",
    "model_logr = LogisticRegression()\n",
    "logr = model_logr.fit(X_train_seic,y_train_seic)\n",
    "prediction_logr = model_logr.predict(X_test_seic)\n",
    "\n",
    "\n",
    "score_logr_test = model_logr.score(X_test_seic, y_test_seic)\n",
    "print('Accuracy Score: ', score_logr_test)"
   ]
  },
  {
   "cell_type": "code",
   "execution_count": 19,
   "id": "developed-albany",
   "metadata": {},
   "outputs": [
    {
     "data": {
      "text/plain": [
       "2"
      ]
     },
     "execution_count": 19,
     "metadata": {},
     "output_type": "execute_result"
    }
   ],
   "source": [
    "len(set(prediction_logr))"
   ]
  },
  {
   "cell_type": "code",
   "execution_count": 20,
   "id": "circular-green",
   "metadata": {},
   "outputs": [
    {
     "data": {
      "text/plain": [
       "{1, 2}"
      ]
     },
     "execution_count": 20,
     "metadata": {},
     "output_type": "execute_result"
    }
   ],
   "source": [
    "set(prediction_logr)    #Logistic Regression Didnt consider EOI cases"
   ]
  },
  {
   "cell_type": "markdown",
   "id": "foreign-malpractice",
   "metadata": {},
   "source": [
    "#### Model 3 : Random Forest Classifier"
   ]
  },
  {
   "cell_type": "code",
   "execution_count": 21,
   "id": "impressed-lease",
   "metadata": {},
   "outputs": [
    {
     "name": "stdout",
     "output_type": "stream",
     "text": [
      "Accuracy Score:  0.9993333333333333\n"
     ]
    },
    {
     "data": {
      "text/plain": [
       "3"
      ]
     },
     "execution_count": 21,
     "metadata": {},
     "output_type": "execute_result"
    }
   ],
   "source": [
    "from sklearn.ensemble import RandomForestClassifier\n",
    "\n",
    "model_rfc = RandomForestClassifier(n_estimators=100)\n",
    "rfc = model_rfc.fit(X_train_seic,y_train_seic)\n",
    "prediction_rfc = model_rfc.predict(X_test_seic)\n",
    "\n",
    "\n",
    "score_rfc_test = model_rfc.score(X_test_seic, y_test_seic)\n",
    "print('Accuracy Score: ', score_rfc_test)\n",
    "\n",
    "len(set(prediction_rfc))"
   ]
  },
  {
   "cell_type": "markdown",
   "id": "overhead-north",
   "metadata": {},
   "source": [
    "#### Model 4: Decision Tree Classifier(CART): Best performer"
   ]
  },
  {
   "cell_type": "code",
   "execution_count": 33,
   "id": "spanish-villa",
   "metadata": {},
   "outputs": [
    {
     "name": "stdout",
     "output_type": "stream",
     "text": [
      "Accuracy Score:  0.9996666666666667\n"
     ]
    }
   ],
   "source": [
    "from sklearn.tree import DecisionTreeClassifier\n",
    "from sklearn import tree\n",
    "\n",
    "model_dtc = DecisionTreeClassifier(random_state =0 , max_depth = 10)\n",
    "dtc = model_dtc.fit(X_train_seic,y_train_seic)\n",
    "prediction_dtc = model_dtc.predict(X_test_seic)\n",
    "\n",
    "\n",
    "score_dtc_test = model_dtc.score(X_test_seic, y_test_seic)\n",
    "print('Accuracy Score: ', score_dtc_test)"
   ]
  },
  {
   "cell_type": "code",
   "execution_count": 34,
   "id": "pressing-kidney",
   "metadata": {},
   "outputs": [
    {
     "data": {
      "image/png": "[encoded data removed]",
      "text/plain": [
       "<Figure size 432x288 with 1 Axes>"
      ]
     },
     "metadata": {},
     "output_type": "display_data"
    }
   ],
   "source": [
    "tree.plot_tree(dtc);"
   ]
  },
  {
   "cell_type": "code",
   "execution_count": 24,
   "id": "solar-romance",
   "metadata": {},
   "outputs": [
    {
     "data": {
      "text/plain": [
       "3"
      ]
     },
     "execution_count": 24,
     "metadata": {},
     "output_type": "execute_result"
    }
   ],
   "source": [
    "len(set(prediction_dtc))"
   ]
  },
  {
   "cell_type": "code",
   "execution_count": 25,
   "id": "official-blocking",
   "metadata": {},
   "outputs": [
    {
     "data": {
      "text/plain": [
       "{0, 1, 2}"
      ]
     },
     "execution_count": 25,
     "metadata": {},
     "output_type": "execute_result"
    }
   ],
   "source": [
    "(set(prediction_dtc))"
   ]
  },
  {
   "cell_type": "code",
   "execution_count": 26,
   "id": "current-holly",
   "metadata": {},
   "outputs": [
    {
     "data": {
      "text/plain": [
       "{0, 1, 2}"
      ]
     },
     "execution_count": 26,
     "metadata": {},
     "output_type": "execute_result"
    }
   ],
   "source": [
    "set(y_test_seic)"
   ]
  },
  {
   "cell_type": "markdown",
   "id": "nervous-backup",
   "metadata": {},
   "source": [
    "- 0 : eoe\n",
    "- 1 : eoi\n",
    "- 2 : No error"
   ]
  },
  {
   "cell_type": "markdown",
   "id": "elder-store",
   "metadata": {},
   "source": [
    "#### Plotting Test Dataset:"
   ]
  },
  {
   "cell_type": "code",
   "execution_count": 27,
   "id": "inclusive-documentary",
   "metadata": {},
   "outputs": [
    {
     "data": {
      "image/png": "[encoded data removed]",
      "text/plain": [
       "<Figure size 432x288 with 1 Axes>"
      ]
     },
     "metadata": {},
     "output_type": "display_data"
    }
   ],
   "source": [
    "x = test[\"seic\"]\n",
    "y =  test[\"seic_benefit\"]\n",
    "\n",
    "group = y_test_seic\n",
    "\n",
    "plt.scatter(x, y, c = group,label =group )\n",
    "plt.show()"
   ]
  },
  {
   "cell_type": "markdown",
   "id": "embedded-fruit",
   "metadata": {},
   "source": [
    "#### Plotting Prediction Results for Decision Tree"
   ]
  },
  {
   "cell_type": "code",
   "execution_count": 28,
   "id": "later-confusion",
   "metadata": {},
   "outputs": [
    {
     "data": {
      "image/png": "[encoded data removed]",
      "text/plain": [
       "<Figure size 432x288 with 1 Axes>"
      ]
     },
     "metadata": {},
     "output_type": "display_data"
    }
   ],
   "source": [
    "x = test[\"seic\"]\n",
    "y =  test[\"seic_benefit\"]\n",
    "\n",
    "plt.scatter(x, y, c = prediction_dtc,label = prediction_dtc)\n",
    "plt.show()"
   ]
  },
  {
   "cell_type": "code",
   "execution_count": null,
   "id": "varied-repair",
   "metadata": {},
   "outputs": [],
   "source": []
  },
  {
   "cell_type": "code",
   "execution_count": null,
   "id": "french-nirvana",
   "metadata": {},
   "outputs": [],
   "source": []
  }
 ],
 "metadata": {
  "kernelspec": {
   "display_name": "Python 3",
   "language": "python",
   "name": "python3"
  },
  "language_info": {
   "codemirror_mode": {
    "name": "ipython",
    "version": 3
   },
   "file_extension": ".py",
   "mimetype": "text/x-python",
   "name": "python",
   "nbconvert_exporter": "python",
   "pygments_lexer": "ipython3",
   "version": "3.9.1"
  }
 },
 "nbformat": 4,
 "nbformat_minor": 5
}
